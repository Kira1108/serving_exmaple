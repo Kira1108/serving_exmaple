{
 "cells": [
  {
   "cell_type": "code",
   "execution_count": 1,
   "metadata": {},
   "outputs": [],
   "source": [
    "import tensorflow as tf\n",
    "import json\n",
    "import numpy as np"
   ]
  },
  {
   "cell_type": "code",
   "execution_count": 2,
   "metadata": {},
   "outputs": [],
   "source": [
    "(X_train, y_train), (X_test, y_test) = tf.keras.datasets.fashion_mnist.load_data()\n",
    "X_train = X_train / 255.\n",
    "X_test = X_test / 255.\n",
    "X_train = X_train.reshape(*X_train.shape,1)\n",
    "X_test = X_test.reshape(*X_test.shape,1)"
   ]
  },
  {
   "cell_type": "code",
   "execution_count": 4,
   "metadata": {},
   "outputs": [],
   "source": [
    "import requests \n",
    "import json\n",
    "def predict():\n",
    "    data = json.dumps({\n",
    "        \"signature_name\": \"serving_default\",\n",
    "        \"instances\": X_test[0:5].tolist()\n",
    "    })\n",
    "\n",
    "    headers = {'content-type':\"application/json\"}\n",
    "\n",
    "    json_response = requests.post(\"http://localhost:8501/v1/models/saved_model:predict\", data=data, headers=headers)\n",
    "\n",
    "    class_idx = np.argmax(np.array(json.loads(json_response.text)['predictions']), axis = 1)\n",
    "\n",
    "    return class_idx, y_test[:5]"
   ]
  },
  {
   "cell_type": "code",
   "execution_count": 5,
   "metadata": {},
   "outputs": [
    {
     "data": {
      "text/plain": [
       "(array([9, 2, 1, 1, 6]), array([9, 2, 1, 1, 6], dtype=uint8))"
      ]
     },
     "execution_count": 5,
     "metadata": {},
     "output_type": "execute_result"
    }
   ],
   "source": [
    "predict()"
   ]
  },
  {
   "cell_type": "code",
   "execution_count": null,
   "metadata": {},
   "outputs": [],
   "source": []
  }
 ],
 "metadata": {
  "interpreter": {
   "hash": "40d3a090f54c6569ab1632332b64b2c03c39dcf918b08424e98f38b5ae0af88f"
  },
  "kernelspec": {
   "display_name": "Python 3 (ipykernel)",
   "language": "python",
   "name": "python3"
  },
  "language_info": {
   "codemirror_mode": {
    "name": "ipython",
    "version": 3
   },
   "file_extension": ".py",
   "mimetype": "text/x-python",
   "name": "python",
   "nbconvert_exporter": "python",
   "pygments_lexer": "ipython3",
   "version": "3.8.3"
  }
 },
 "nbformat": 4,
 "nbformat_minor": 4
}
