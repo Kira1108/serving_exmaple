{
 "cells": [
  {
   "cell_type": "code",
   "execution_count": 1,
   "id": "7c7c926a-40f4-4b94-8f62-a45a80a48f5d",
   "metadata": {},
   "outputs": [],
   "source": [
    "import tensorflow as tf\n",
    "import matplotlib.pyplot as plt\n",
    "import os"
   ]
  },
  {
   "cell_type": "code",
   "execution_count": 2,
   "id": "9bbbb39f-aedb-4c74-8c38-3265434f32d5",
   "metadata": {},
   "outputs": [],
   "source": [
    "(X_train, y_train), (X_test, y_test) = tf.keras.datasets.fashion_mnist.load_data()\n",
    "X_train = X_train / 255.\n",
    "X_test = X_test / 255.\n",
    "X_train = X_train.reshape(*X_train.shape,1)\n",
    "X_test = X_test.reshape(*X_test.shape,1)"
   ]
  },
  {
   "cell_type": "code",
   "execution_count": 11,
   "id": "67a16876-80fb-44a3-861b-e09e85ec4340",
   "metadata": {},
   "outputs": [
    {
     "name": "stdout",
     "output_type": "stream",
     "text": [
      "Model: \"sequential_1\"\n",
      "_________________________________________________________________\n",
      "Layer (type)                 Output Shape              Param #   \n",
      "=================================================================\n",
      "conv2d_2 (Conv2D)            (None, 26, 26, 32)        320       \n",
      "_________________________________________________________________\n",
      "max_pooling2d_1 (MaxPooling2 (None, 13, 13, 32)        0         \n",
      "_________________________________________________________________\n",
      "conv2d_3 (Conv2D)            (None, 11, 11, 64)        18496     \n",
      "_________________________________________________________________\n",
      "flatten_1 (Flatten)          (None, 7744)              0         \n",
      "_________________________________________________________________\n",
      "dense_2 (Dense)              (None, 64)                495680    \n",
      "_________________________________________________________________\n",
      "dense_3 (Dense)              (None, 10)                650       \n",
      "=================================================================\n",
      "Total params: 515,146\n",
      "Trainable params: 515,146\n",
      "Non-trainable params: 0\n",
      "_________________________________________________________________\n"
     ]
    }
   ],
   "source": [
    "cnn = tf.keras.models.Sequential(\n",
    "    [\n",
    "        tf.keras.layers.Conv2D(32,(3,3), activation = 'relu', input_shape = (28,28,1)),\n",
    "        tf.keras.layers.MaxPooling2D(2,2),\n",
    "        tf.keras.layers.Conv2D(64,(3,3), activation = 'relu'),\n",
    "        tf.keras.layers.Flatten(),\n",
    "        tf.keras.layers.Dense(64, activation = 'relu'),\n",
    "        tf.keras.layers.Dense(10, activation = 'softmax')\n",
    "    ]\n",
    ")\n",
    "\n",
    "cnn.summary()"
   ]
  },
  {
   "cell_type": "code",
   "execution_count": 12,
   "id": "db47f8e7-ed3c-4bf0-8bb2-dd8f7b0fb674",
   "metadata": {},
   "outputs": [],
   "source": [
    "epochs = 5\n",
    "\n",
    "cnn.compile(optimizer = tf.keras.optimizers.Adam(), loss = 'sparse_categorical_crossentropy', metrics = ['accuracy'])"
   ]
  },
  {
   "cell_type": "code",
   "execution_count": 13,
   "id": "1b11d1c8-f12d-4339-9a25-bb72262aff1f",
   "metadata": {},
   "outputs": [
    {
     "name": "stderr",
     "output_type": "stream",
     "text": [
      "2022-05-15 11:27:18.994544: W tensorflow/core/framework/cpu_allocator_impl.cc:80] Allocation of 188160000 exceeds 10% of free system memory.\n",
      "2022-05-15 11:27:19.413108: I tensorflow/compiler/mlir/mlir_graph_optimization_pass.cc:185] None of the MLIR Optimization Passes are enabled (registered 2)\n"
     ]
    },
    {
     "name": "stdout",
     "output_type": "stream",
     "text": [
      "Epoch 1/5\n",
      "  12/1875 [..............................] - ETA: 29s - loss: 1.8636 - accuracy: 0.3229"
     ]
    },
    {
     "name": "stderr",
     "output_type": "stream",
     "text": [
      "2022-05-15 11:27:20.161802: W tensorflow/core/framework/cpu_allocator_impl.cc:80] Allocation of 17981568 exceeds 10% of free system memory.\n",
      "2022-05-15 11:27:20.162625: W tensorflow/core/framework/cpu_allocator_impl.cc:80] Allocation of 17981568 exceeds 10% of free system memory.\n",
      "2022-05-15 11:27:20.190293: W tensorflow/core/framework/cpu_allocator_impl.cc:80] Allocation of 17981568 exceeds 10% of free system memory.\n",
      "2022-05-15 11:27:20.190561: W tensorflow/core/framework/cpu_allocator_impl.cc:80] Allocation of 17981568 exceeds 10% of free system memory.\n"
     ]
    },
    {
     "name": "stdout",
     "output_type": "stream",
     "text": [
      "1875/1875 [==============================] - 26s 13ms/step - loss: 0.4097 - accuracy: 0.8528\n",
      "Epoch 2/5\n",
      "1875/1875 [==============================] - 24s 13ms/step - loss: 0.2660 - accuracy: 0.9035\n",
      "Epoch 3/5\n",
      "1875/1875 [==============================] - 26s 14ms/step - loss: 0.2180 - accuracy: 0.9197\n",
      "Epoch 4/5\n",
      "1875/1875 [==============================] - 43s 23ms/step - loss: 0.1819 - accuracy: 0.9325\n",
      "Epoch 5/5\n",
      "1875/1875 [==============================] - 36s 19ms/step - loss: 0.1518 - accuracy: 0.9431\n"
     ]
    },
    {
     "data": {
      "text/plain": [
       "<keras.callbacks.History at 0x7fe92b57af10>"
      ]
     },
     "execution_count": 13,
     "metadata": {},
     "output_type": "execute_result"
    }
   ],
   "source": [
    "cnn.fit(X_train, y_train, epochs = epochs)"
   ]
  },
  {
   "cell_type": "code",
   "execution_count": 3,
   "id": "cfc943a9-0da1-42b9-8897-3d2217b9ad2b",
   "metadata": {},
   "outputs": [],
   "source": [
    "MODEL_DIRECTORY = \"./tmp\"\n",
    "\n",
    "if not os.path.exists(MODEL_DIRECTORY):\n",
    "    os.makedirs(MODEL_DIRECTORY)"
   ]
  },
  {
   "cell_type": "code",
   "execution_count": 4,
   "id": "beedc686-d115-4eae-9536-3193876ee5e1",
   "metadata": {},
   "outputs": [],
   "source": [
    "version = 1"
   ]
  },
  {
   "cell_type": "code",
   "execution_count": 5,
   "id": "a565c2c5-19d9-41af-aac5-3c865292b32e",
   "metadata": {},
   "outputs": [
    {
     "name": "stdout",
     "output_type": "stream",
     "text": [
      "export path = ./tmp/1\n"
     ]
    }
   ],
   "source": [
    "export_path = os.path.join(MODEL_DIRECTORY, str(version))\n",
    "print(f\"export path = {export_path}\")\n",
    "\n",
    "if os.path.isdir(export_path):\n",
    "    raise ValueError(f\"model with version {version} already exists\")\n",
    "\n",
    "tf.saved_model.save(\n",
    "    cnn,\n",
    "    export_path,\n",
    ")"
   ]
  },
  {
   "cell_type": "code",
   "execution_count": 30,
   "id": "e620f35d-2c49-4f20-a4d5-cdc75e5dfe58",
   "metadata": {},
   "outputs": [
    {
     "name": "stdout",
     "output_type": "stream",
     "text": [
      "total 124\n",
      "drwxr-xr-x 2 jovyan users     64 May 15 11:42 assets\n",
      "-rw-r--r-- 1 jovyan users 126758 May 15 11:42 saved_model.pb\n",
      "drwxr-xr-x 4 jovyan users    128 May 15 11:42 variables\n"
     ]
    }
   ],
   "source": [
    "!ls -l {export_path}"
   ]
  },
  {
   "cell_type": "code",
   "execution_count": 6,
   "id": "0fb50951-6f61-4ad5-99b5-3c85989c59c0",
   "metadata": {},
   "outputs": [
    {
     "name": "stdout",
     "output_type": "stream",
     "text": [
      "\n",
      "MetaGraphDef with tag-set: 'serve' contains the following SignatureDefs:\n",
      "\n",
      "signature_def['__saved_model_init_op']:\n",
      "  The given SavedModel SignatureDef contains the following input(s):\n",
      "  The given SavedModel SignatureDef contains the following output(s):\n",
      "    outputs['__saved_model_init_op'] tensor_info:\n",
      "        dtype: DT_INVALID\n",
      "        shape: unknown_rank\n",
      "        name: NoOp\n",
      "  Method name is: \n",
      "\n",
      "signature_def['serving_default']:\n",
      "  The given SavedModel SignatureDef contains the following input(s):\n",
      "    inputs['conv2d_2_input'] tensor_info:\n",
      "        dtype: DT_FLOAT\n",
      "        shape: (-1, 28, 28, 1)\n",
      "        name: serving_default_conv2d_2_input:0\n",
      "  The given SavedModel SignatureDef contains the following output(s):\n",
      "    outputs['dense_3'] tensor_info:\n",
      "        dtype: DT_FLOAT\n",
      "        shape: (-1, 10)\n",
      "        name: StatefulPartitionedCall:0\n",
      "  Method name is: tensorflow/serving/predict\n",
      "\n",
      "Concrete Functions:\n",
      "  Function Name: '__call__'\n",
      "    Option #1\n",
      "      Callable with:\n",
      "        Argument #1\n",
      "          inputs: TensorSpec(shape=(None, 28, 28, 1), dtype=tf.float32, name='inputs')\n",
      "        Argument #2\n",
      "          DType: bool\n",
      "          Value: True\n",
      "        Argument #3\n",
      "          DType: NoneType\n",
      "          Value: None\n",
      "    Option #2\n",
      "      Callable with:\n",
      "        Argument #1\n",
      "          conv2d_2_input: TensorSpec(shape=(None, 28, 28, 1), dtype=tf.float32, name='conv2d_2_input')\n",
      "        Argument #2\n",
      "          DType: bool\n",
      "          Value: True\n",
      "        Argument #3\n",
      "          DType: NoneType\n",
      "          Value: None\n",
      "    Option #3\n",
      "      Callable with:\n",
      "        Argument #1\n",
      "          conv2d_2_input: TensorSpec(shape=(None, 28, 28, 1), dtype=tf.float32, name='conv2d_2_input')\n",
      "        Argument #2\n",
      "          DType: bool\n",
      "          Value: False\n",
      "        Argument #3\n",
      "          DType: NoneType\n",
      "          Value: None\n",
      "    Option #4\n",
      "      Callable with:\n",
      "        Argument #1\n",
      "          inputs: TensorSpec(shape=(None, 28, 28, 1), dtype=tf.float32, name='inputs')\n",
      "        Argument #2\n",
      "          DType: bool\n",
      "          Value: False\n",
      "        Argument #3\n",
      "          DType: NoneType\n",
      "          Value: None\n",
      "\n",
      "  Function Name: '_default_save_signature'\n",
      "    Option #1\n",
      "      Callable with:\n",
      "        Argument #1\n",
      "          conv2d_2_input: TensorSpec(shape=(None, 28, 28, 1), dtype=tf.float32, name='conv2d_2_input')\n",
      "\n",
      "  Function Name: 'call_and_return_all_conditional_losses'\n",
      "    Option #1\n",
      "      Callable with:\n",
      "        Argument #1\n",
      "          inputs: TensorSpec(shape=(None, 28, 28, 1), dtype=tf.float32, name='inputs')\n",
      "        Argument #2\n",
      "          DType: bool\n",
      "          Value: False\n",
      "        Argument #3\n",
      "          DType: NoneType\n",
      "          Value: None\n",
      "    Option #2\n",
      "      Callable with:\n",
      "        Argument #1\n",
      "          inputs: TensorSpec(shape=(None, 28, 28, 1), dtype=tf.float32, name='inputs')\n",
      "        Argument #2\n",
      "          DType: bool\n",
      "          Value: True\n",
      "        Argument #3\n",
      "          DType: NoneType\n",
      "          Value: None\n",
      "    Option #3\n",
      "      Callable with:\n",
      "        Argument #1\n",
      "          conv2d_2_input: TensorSpec(shape=(None, 28, 28, 1), dtype=tf.float32, name='conv2d_2_input')\n",
      "        Argument #2\n",
      "          DType: bool\n",
      "          Value: True\n",
      "        Argument #3\n",
      "          DType: NoneType\n",
      "          Value: None\n",
      "    Option #4\n",
      "      Callable with:\n",
      "        Argument #1\n",
      "          conv2d_2_input: TensorSpec(shape=(None, 28, 28, 1), dtype=tf.float32, name='conv2d_2_input')\n",
      "        Argument #2\n",
      "          DType: bool\n",
      "          Value: False\n",
      "        Argument #3\n",
      "          DType: NoneType\n",
      "          Value: None\n"
     ]
    }
   ],
   "source": [
    "!saved_model_cli show --dir {export_path} --all"
   ]
  },
  {
   "cell_type": "code",
   "execution_count": null,
   "id": "77a7f8f7",
   "metadata": {},
   "outputs": [],
   "source": []
  }
 ],
 "metadata": {
  "interpreter": {
   "hash": "40d3a090f54c6569ab1632332b64b2c03c39dcf918b08424e98f38b5ae0af88f"
  },
  "kernelspec": {
   "display_name": "Python 3 (ipykernel)",
   "language": "python",
   "name": "python3"
  },
  "language_info": {
   "codemirror_mode": {
    "name": "ipython",
    "version": 3
   },
   "file_extension": ".py",
   "mimetype": "text/x-python",
   "name": "python",
   "nbconvert_exporter": "python",
   "pygments_lexer": "ipython3",
   "version": "3.8.3"
  }
 },
 "nbformat": 4,
 "nbformat_minor": 5
}
